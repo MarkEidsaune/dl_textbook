{
 "cells": [
  {
   "cell_type": "markdown",
   "id": "cba3348e",
   "metadata": {},
   "source": [
    "# Ch. 2 Linear Algebra"
   ]
  },
  {
   "attachments": {},
   "cell_type": "markdown",
   "id": "8d4c8850",
   "metadata": {},
   "source": [
    "## 2.1 Scalars, Vectors, Matrices and Tensors  \n",
    ">* **Scalar**: Single number  \n",
    ">* **Vector**: Array of numbers\n",
    ">* **Matrix**: 2-D array of numbers  \n",
    ">* **Tensor**: Array of numbers on a regular grid with a variable number of axis"
   ]
  },
  {
   "attachments": {},
   "cell_type": "markdown",
   "id": "9d9330b2",
   "metadata": {},
   "source": [
    "### Transpose\n",
    "> ${\\displaystyle \\left( A ^{\\operatorname {T}}\\right)_{ij}=\\left(A \\right)_{ji}.}$"
   ]
  },
  {
   "cell_type": "code",
   "execution_count": 2,
   "id": "1c3d221d",
   "metadata": {},
   "outputs": [
    {
     "data": {
      "text/plain": [
       "tensor([[ 1.3554, -0.4660, -0.4209],\n",
       "        [-0.9665, -0.0524, -0.0628]])"
      ]
     },
     "execution_count": 2,
     "metadata": {},
     "output_type": "execute_result"
    }
   ],
   "source": [
    "import torch\n",
    "A = torch.randn(2, 3)\n",
    "A"
   ]
  },
  {
   "cell_type": "code",
   "execution_count": 3,
   "id": "3e7c46d5",
   "metadata": {},
   "outputs": [
    {
     "data": {
      "text/plain": [
       "torch.Size([2, 3])"
      ]
     },
     "execution_count": 3,
     "metadata": {},
     "output_type": "execute_result"
    }
   ],
   "source": [
    "A.shape"
   ]
  },
  {
   "cell_type": "code",
   "execution_count": 4,
   "id": "d6ac5121",
   "metadata": {},
   "outputs": [
    {
     "data": {
      "text/plain": [
       "tensor([[ 1.3554, -0.9665],\n",
       "        [-0.4660, -0.0524],\n",
       "        [-0.4209, -0.0628]])"
      ]
     },
     "execution_count": 4,
     "metadata": {},
     "output_type": "execute_result"
    }
   ],
   "source": [
    "torch.transpose(A, 0, 1)"
   ]
  },
  {
   "cell_type": "code",
   "execution_count": 5,
   "id": "8dbed130",
   "metadata": {},
   "outputs": [
    {
     "data": {
      "text/plain": [
       "torch.Size([3, 2])"
      ]
     },
     "execution_count": 5,
     "metadata": {},
     "output_type": "execute_result"
    }
   ],
   "source": [
    "torch.transpose(A, 0, 1).shape"
   ]
  },
  {
   "attachments": {},
   "cell_type": "markdown",
   "id": "77ffde08",
   "metadata": {},
   "source": [
    "## 2.2 Multiplying Matrices and Vectors\n",
    "> ${\\displaystyle C = A B}.$  \n",
    "> ${\\displaystyle C_{i,j} = \\sum _{k}A_{i,k}B_{k,j}.}$  \n",
    ">* Not to be confused with element-wise product, or Hadamard product (${\\displaystyle A \\odot B}$). "
   ]
  },
  {
   "cell_type": "code",
   "execution_count": 6,
   "id": "bc33866a",
   "metadata": {},
   "outputs": [
    {
     "data": {
      "text/plain": [
       "tensor([[-0.2425, -1.0879],\n",
       "        [-0.3214, -0.2495],\n",
       "        [ 1.4926, -0.5809]])"
      ]
     },
     "execution_count": 6,
     "metadata": {},
     "output_type": "execute_result"
    }
   ],
   "source": [
    "B = torch.randn(3, 2)\n",
    "B"
   ]
  },
  {
   "cell_type": "code",
   "execution_count": 7,
   "id": "1f3285fc",
   "metadata": {},
   "outputs": [
    {
     "data": {
      "text/plain": [
       "torch.Size([3, 2])"
      ]
     },
     "execution_count": 7,
     "metadata": {},
     "output_type": "execute_result"
    }
   ],
   "source": [
    "B.shape"
   ]
  },
  {
   "cell_type": "code",
   "execution_count": 8,
   "id": "3753fe30",
   "metadata": {},
   "outputs": [
    {
     "data": {
      "text/plain": [
       "tensor([[-0.8072, -1.1137],\n",
       "        [ 0.1575,  1.1010]])"
      ]
     },
     "execution_count": 8,
     "metadata": {},
     "output_type": "execute_result"
    }
   ],
   "source": [
    "A @ B"
   ]
  },
  {
   "cell_type": "code",
   "execution_count": 9,
   "id": "f9159835",
   "metadata": {},
   "outputs": [
    {
     "data": {
      "text/plain": [
       "torch.Size([2, 2])"
      ]
     },
     "execution_count": 9,
     "metadata": {},
     "output_type": "execute_result"
    }
   ],
   "source": [
    "(A @ B).shape"
   ]
  },
  {
   "attachments": {},
   "cell_type": "markdown",
   "id": "5b7dec27",
   "metadata": {},
   "source": [
    "@ **is** distributive  \n",
    "> ${\\displaystyle A \\left( B + C \\right) = AB + AC}.$  "
   ]
  },
  {
   "cell_type": "code",
   "execution_count": 10,
   "id": "31d982d6",
   "metadata": {},
   "outputs": [
    {
     "data": {
      "text/plain": [
       "tensor([[-1.8356, -0.8395],\n",
       "        [ 0.6133,  2.1329],\n",
       "        [-0.6385, -0.0362]])"
      ]
     },
     "execution_count": 10,
     "metadata": {},
     "output_type": "execute_result"
    }
   ],
   "source": [
    "C = torch.randn_like(B)\n",
    "C"
   ]
  },
  {
   "cell_type": "code",
   "execution_count": 11,
   "id": "91974244",
   "metadata": {},
   "outputs": [
    {
     "data": {
      "text/plain": [
       "torch.Size([3, 2])"
      ]
     },
     "execution_count": 11,
     "metadata": {},
     "output_type": "execute_result"
    }
   ],
   "source": [
    "C.shape"
   ]
  },
  {
   "cell_type": "code",
   "execution_count": 12,
   "id": "4501b33b",
   "metadata": {},
   "outputs": [
    {
     "data": {
      "text/plain": [
       "tensor(True)"
      ]
     },
     "execution_count": 12,
     "metadata": {},
     "output_type": "execute_result"
    }
   ],
   "source": [
    "torch.all(torch.isclose(A @ (B + C), A @ B + A @ C))"
   ]
  },
  {
   "attachments": {},
   "cell_type": "markdown",
   "id": "db693b3b",
   "metadata": {},
   "source": [
    "@ **is** associative  \n",
    "> ${\\displaystyle A \\left( BC \\right) = \\left( AB \\right) C}.$  "
   ]
  },
  {
   "cell_type": "code",
   "execution_count": 13,
   "id": "c0360c99",
   "metadata": {},
   "outputs": [
    {
     "data": {
      "text/plain": [
       "tensor([[-1.0897, -0.1621,  0.3102,  0.0769,  0.2311,  0.5780],\n",
       "        [-1.1056, -0.0759,  0.5800,  0.5874,  1.8774,  0.6731]])"
      ]
     },
     "execution_count": 13,
     "metadata": {},
     "output_type": "execute_result"
    }
   ],
   "source": [
    "D = torch.randn(2, 6)\n",
    "D"
   ]
  },
  {
   "cell_type": "code",
   "execution_count": 14,
   "id": "ad87eeb5",
   "metadata": {},
   "outputs": [
    {
     "data": {
      "text/plain": [
       "torch.Size([2, 6])"
      ]
     },
     "execution_count": 14,
     "metadata": {},
     "output_type": "execute_result"
    }
   ],
   "source": [
    "D.shape"
   ]
  },
  {
   "cell_type": "code",
   "execution_count": 15,
   "id": "fb264cd6",
   "metadata": {},
   "outputs": [
    {
     "data": {
      "text/plain": [
       "tensor(True)"
      ]
     },
     "execution_count": 15,
     "metadata": {},
     "output_type": "execute_result"
    }
   ],
   "source": [
    "torch.all(torch.isclose(A @ (B @ D), (A @ B) @ D))"
   ]
  },
  {
   "attachments": {},
   "cell_type": "markdown",
   "id": "8d2c45d3",
   "metadata": {},
   "source": [
    "@ is **not always** commutative  \n",
    "> ${\\displaystyle AB = BA}.$ "
   ]
  },
  {
   "cell_type": "code",
   "execution_count": 16,
   "id": "99bffc77",
   "metadata": {},
   "outputs": [
    {
     "data": {
      "text/plain": [
       "torch.Size([2, 2])"
      ]
     },
     "execution_count": 16,
     "metadata": {},
     "output_type": "execute_result"
    }
   ],
   "source": [
    "(A @ B).shape"
   ]
  },
  {
   "cell_type": "code",
   "execution_count": 17,
   "id": "d35f9cd7",
   "metadata": {},
   "outputs": [
    {
     "data": {
      "text/plain": [
       "torch.Size([3, 3])"
      ]
     },
     "execution_count": 17,
     "metadata": {},
     "output_type": "execute_result"
    }
   ],
   "source": [
    "(B @ A).shape"
   ]
  },
  {
   "attachments": {},
   "cell_type": "markdown",
   "id": "895cf57d",
   "metadata": {},
   "source": [
    "Transpose of matrix product  \n",
    "> ${\\displaystyle \\left( AB \\right) ^{\\operatorname {T}} = B ^{\\operatorname {T}} A ^{\\operatorname {T}}}.$"
   ]
  },
  {
   "cell_type": "code",
   "execution_count": 18,
   "id": "df5a582a",
   "metadata": {},
   "outputs": [
    {
     "data": {
      "text/plain": [
       "tensor(True)"
      ]
     },
     "execution_count": 18,
     "metadata": {},
     "output_type": "execute_result"
    }
   ],
   "source": [
    "torch.all(torch.isclose((A @ B).transpose(0, 1), B.transpose(0, 1) @ A.transpose(0, 1)))"
   ]
  },
  {
   "attachments": {},
   "cell_type": "markdown",
   "id": "4e675fe5",
   "metadata": {},
   "source": [
    "System of linear equations  \n",
    "> ${\\displaystyle A x = b}$  \n",
    "> ${\\displaystyle \\\\ \\text {where} \\: A \\in \\mathbb {R} ^ {m \\times n}, \\: b \\in \\mathbb {R} ^ {m}, \\:  \\text{and} \\: x \\in \\mathbb{R} ^ {n}.}$"
   ]
  },
  {
   "cell_type": "code",
   "execution_count": 19,
   "id": "5ccc4291",
   "metadata": {},
   "outputs": [],
   "source": [
    "m, n = 4, 5\n",
    "A = torch.randn(m, n)\n",
    "x = torch.randn(n)\n",
    "b = torch.randn(m)"
   ]
  },
  {
   "cell_type": "code",
   "execution_count": 20,
   "id": "f5d3ad87",
   "metadata": {},
   "outputs": [
    {
     "data": {
      "text/plain": [
       "torch.Size([4])"
      ]
     },
     "execution_count": 20,
     "metadata": {},
     "output_type": "execute_result"
    }
   ],
   "source": [
    "(A @ x).shape"
   ]
  },
  {
   "cell_type": "code",
   "execution_count": 21,
   "id": "0bcfe309",
   "metadata": {},
   "outputs": [
    {
     "data": {
      "text/plain": [
       "torch.Size([4])"
      ]
     },
     "execution_count": 21,
     "metadata": {},
     "output_type": "execute_result"
    }
   ],
   "source": [
    "b.shape"
   ]
  },
  {
   "attachments": {},
   "cell_type": "markdown",
   "id": "8f228dfd",
   "metadata": {},
   "source": [
    "## 2.3 Identity and Inverse Matrices  \n",
    ">* **Identity Matrix**: a matrix that does not change any vector when we multiply that vector by that matrix.  \n",
    "${\\displaystyle I_{n} \\in \\mathbb {R} ^{n \\times n}}$, and  \n",
    "${\\displaystyle \\forall x \\in \\mathbb {R} ^{n}, \\: I_{n}x = x.}$  \n",
    "${\\displaystyle \\begin{bmatrix}\n",
    "1 & 0 & 0 \\\\\n",
    "0 & 1 & 0 \\\\\n",
    "0 & 0 & 1\n",
    "\\end{bmatrix}}$  \n",
    ">* The **matrix inverse** of **A** is denoted as ${\\displaystyle A ^{-1}}$, and is defined as the matrix such that  \n",
    "${\\displaystyle A ^{-1} A = I_{n}.}$  \n",
    ">* The system of linear equations above can now be solved using the following steps:  \n",
    "${\\displaystyle A x = b}$  \n",
    "${\\displaystyle A ^{-1} A x = A ^{-1} b}$  \n",
    "${\\displaystyle I_{n} x = A^{-1} b.}$\n",
    ">* ${\\displaystyle A^{-1}}$ is not always possible to find and is primarily useful as a theoretical tool.  "
   ]
  },
  {
   "cell_type": "code",
   "execution_count": 22,
   "id": "200c1797",
   "metadata": {},
   "outputs": [
    {
     "data": {
      "text/plain": [
       "tensor([[1., 0., 0.],\n",
       "        [0., 1., 0.],\n",
       "        [0., 0., 1.]])"
      ]
     },
     "execution_count": 22,
     "metadata": {},
     "output_type": "execute_result"
    }
   ],
   "source": [
    "I = torch.eye(3)\n",
    "I"
   ]
  },
  {
   "cell_type": "code",
   "execution_count": 25,
   "id": "0bd5fe9d",
   "metadata": {},
   "outputs": [
    {
     "data": {
      "text/plain": [
       "tensor([[ 1.3471, -0.6786, -0.6896],\n",
       "        [ 0.2669,  0.8253, -1.1286],\n",
       "        [ 0.0098,  1.3549, -0.6677]])"
      ]
     },
     "execution_count": 25,
     "metadata": {},
     "output_type": "execute_result"
    }
   ],
   "source": [
    "A = torch.randn(3, 3)\n",
    "A"
   ]
  },
  {
   "cell_type": "code",
   "execution_count": 26,
   "id": "c0ccf24a",
   "metadata": {},
   "outputs": [
    {
     "data": {
      "text/plain": [
       "tensor([[ 1.0184, -1.4445,  1.3899],\n",
       "        [ 0.1739, -0.9293,  1.3912],\n",
       "        [ 0.3680, -1.9072,  1.3460]])"
      ]
     },
     "execution_count": 26,
     "metadata": {},
     "output_type": "execute_result"
    }
   ],
   "source": [
    "A_inv = torch.linalg.inv(A)\n",
    "A_inv"
   ]
  },
  {
   "cell_type": "code",
   "execution_count": 30,
   "id": "76976db5",
   "metadata": {},
   "outputs": [
    {
     "data": {
      "text/plain": [
       "tensor([[ 1.0000e+00,  1.7881e-07, -1.1921e-07],\n",
       "        [-4.4703e-08,  1.0000e+00, -1.1921e-07],\n",
       "        [ 0.0000e+00,  0.0000e+00,  1.0000e+00]])"
      ]
     },
     "execution_count": 30,
     "metadata": {},
     "output_type": "execute_result"
    }
   ],
   "source": [
    "A @ A_inv"
   ]
  },
  {
   "cell_type": "code",
   "execution_count": 34,
   "id": "8760ed09",
   "metadata": {},
   "outputs": [
    {
     "data": {
      "text/plain": [
       "tensor([[5.9605e-08, 1.7881e-07, 1.1921e-07],\n",
       "        [4.4703e-08, 1.1921e-07, 1.1921e-07],\n",
       "        [0.0000e+00, 0.0000e+00, 0.0000e+00]])"
      ]
     },
     "execution_count": 34,
     "metadata": {},
     "output_type": "execute_result"
    }
   ],
   "source": [
    "torch.abs(A @ A_inv - I)"
   ]
  },
  {
   "attachments": {},
   "cell_type": "markdown",
   "id": "8ba65323",
   "metadata": {},
   "source": [
    "## 2.4 Linear Dependence and Span  \n",
    ">* For ${\\displaystyle A ^{-1}}$ to exist, ${\\displaystyle A x = b}$ must have exactly one solution for every value of  ${\\displaystyle b}$.  \n",
    ">* The **span** of a set of vectors is the set of all points obtainable by linear combination of the original vectors.  The span of the columns of a matrix is known as the column space, or range.  \n",
    ">* **Linear dependence** is the condition that no vector in a set is a linear combination of the other vectors.  These vectors contribute no points to the span of the set.\n",
    ">* A matrix that (1) is square and (2) has linearly independent columns has exactly one solution for each value of b in equation ${\\displaystyle A x = b}$.  This matrix has an inverse.\n",
    ">* A square matrix with linearly *dependent* columns is called **singular**.  "
   ]
  },
  {
   "attachments": {},
   "cell_type": "markdown",
   "id": "43f64ea3",
   "metadata": {},
   "source": [
    "## 2.5 Norms   "
   ]
  },
  {
   "cell_type": "markdown",
   "id": "a7571c37",
   "metadata": {},
   "source": []
  }
 ],
 "metadata": {
  "kernelspec": {
   "display_name": "Python 3 (ipykernel)",
   "language": "python",
   "name": "python3"
  },
  "language_info": {
   "codemirror_mode": {
    "name": "ipython",
    "version": 3
   },
   "file_extension": ".py",
   "mimetype": "text/x-python",
   "name": "python",
   "nbconvert_exporter": "python",
   "pygments_lexer": "ipython3",
   "version": "3.8.10"
  }
 },
 "nbformat": 4,
 "nbformat_minor": 5
}
