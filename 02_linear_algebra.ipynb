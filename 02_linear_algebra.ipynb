{
 "cells": [
  {
   "cell_type": "markdown",
   "id": "cba3348e",
   "metadata": {},
   "source": [
    "# Ch. 2 Linear Algebra"
   ]
  },
  {
   "cell_type": "markdown",
   "id": "8d4c8850",
   "metadata": {},
   "source": [
    "## 2.1 Scalars, Vectors, Matrices and Tensors  \n",
    "* **Scalar**: Single number  \n",
    "* **Vector**: Array of numbers\n",
    "* **Matrix**: 2-D array of numbers  \n",
    "* **Tensor**: Array of numbers on a regular grid with a variable number of axis"
   ]
  },
  {
   "cell_type": "markdown",
   "id": "9d9330b2",
   "metadata": {},
   "source": [
    "### Transpose\n",
    "${\\displaystyle \\left( A ^{\\operatorname {T}}\\right)_{ij}=\\left(A \\right)_{ji}.}$"
   ]
  },
  {
   "cell_type": "code",
   "execution_count": 66,
   "id": "1c3d221d",
   "metadata": {},
   "outputs": [
    {
     "data": {
      "text/plain": [
       "tensor([[-0.7294,  1.3618, -0.4404],\n",
       "        [ 2.7210,  0.5533,  0.2834]])"
      ]
     },
     "execution_count": 66,
     "metadata": {},
     "output_type": "execute_result"
    }
   ],
   "source": [
    "import torch\n",
    "A = torch.randn(2, 3)\n",
    "A"
   ]
  },
  {
   "cell_type": "code",
   "execution_count": 67,
   "id": "3e7c46d5",
   "metadata": {},
   "outputs": [
    {
     "data": {
      "text/plain": [
       "torch.Size([2, 3])"
      ]
     },
     "execution_count": 67,
     "metadata": {},
     "output_type": "execute_result"
    }
   ],
   "source": [
    "A.shape"
   ]
  },
  {
   "cell_type": "code",
   "execution_count": 68,
   "id": "d6ac5121",
   "metadata": {},
   "outputs": [
    {
     "data": {
      "text/plain": [
       "tensor([[-0.7294,  2.7210],\n",
       "        [ 1.3618,  0.5533],\n",
       "        [-0.4404,  0.2834]])"
      ]
     },
     "execution_count": 68,
     "metadata": {},
     "output_type": "execute_result"
    }
   ],
   "source": [
    "torch.transpose(A, 0, 1)"
   ]
  },
  {
   "cell_type": "code",
   "execution_count": 69,
   "id": "8dbed130",
   "metadata": {},
   "outputs": [
    {
     "data": {
      "text/plain": [
       "torch.Size([3, 2])"
      ]
     },
     "execution_count": 69,
     "metadata": {},
     "output_type": "execute_result"
    }
   ],
   "source": [
    "torch.transpose(A, 0, 1).shape"
   ]
  },
  {
   "cell_type": "markdown",
   "id": "77ffde08",
   "metadata": {},
   "source": [
    "## 2.2 Multiplying Matrices and Vectors\n",
    "${\\displaystyle C = A B}.$  \n",
    "${\\displaystyle C_{i,j} = \\sum _{k}A_{i,k}B_{k,j}.}$  \n",
    "Not to be confused with element-wise product, or Hadamard product (${\\displaystyle A \\odot B}$). "
   ]
  },
  {
   "cell_type": "code",
   "execution_count": 70,
   "id": "bc33866a",
   "metadata": {},
   "outputs": [
    {
     "data": {
      "text/plain": [
       "tensor([[ 0.1433, -1.0222],\n",
       "        [-1.4730,  0.8913],\n",
       "        [ 1.5465, -0.1831]])"
      ]
     },
     "execution_count": 70,
     "metadata": {},
     "output_type": "execute_result"
    }
   ],
   "source": [
    "B = torch.randn(3, 2)\n",
    "B"
   ]
  },
  {
   "cell_type": "code",
   "execution_count": 71,
   "id": "1f3285fc",
   "metadata": {},
   "outputs": [
    {
     "data": {
      "text/plain": [
       "torch.Size([3, 2])"
      ]
     },
     "execution_count": 71,
     "metadata": {},
     "output_type": "execute_result"
    }
   ],
   "source": [
    "B.shape"
   ]
  },
  {
   "cell_type": "code",
   "execution_count": 72,
   "id": "3753fe30",
   "metadata": {},
   "outputs": [
    {
     "data": {
      "text/plain": [
       "tensor([[-2.7914,  2.0400],\n",
       "        [ 0.0132, -2.3403]])"
      ]
     },
     "execution_count": 72,
     "metadata": {},
     "output_type": "execute_result"
    }
   ],
   "source": [
    "A @ B"
   ]
  },
  {
   "cell_type": "code",
   "execution_count": 73,
   "id": "f9159835",
   "metadata": {},
   "outputs": [
    {
     "data": {
      "text/plain": [
       "torch.Size([2, 2])"
      ]
     },
     "execution_count": 73,
     "metadata": {},
     "output_type": "execute_result"
    }
   ],
   "source": [
    "(A @ B).shape"
   ]
  },
  {
   "cell_type": "markdown",
   "id": "5b7dec27",
   "metadata": {},
   "source": [
    "@ **is** distributive  \n",
    "${\\displaystyle A \\left( B + C \\right) = AB + AC}.$  "
   ]
  },
  {
   "cell_type": "code",
   "execution_count": 74,
   "id": "31d982d6",
   "metadata": {},
   "outputs": [
    {
     "data": {
      "text/plain": [
       "tensor([[-0.4825,  1.5713],\n",
       "        [ 1.0060,  0.5823],\n",
       "        [-1.2608,  1.2654]])"
      ]
     },
     "execution_count": 74,
     "metadata": {},
     "output_type": "execute_result"
    }
   ],
   "source": [
    "C = torch.randn_like(B)\n",
    "C"
   ]
  },
  {
   "cell_type": "code",
   "execution_count": 75,
   "id": "91974244",
   "metadata": {},
   "outputs": [
    {
     "data": {
      "text/plain": [
       "torch.Size([3, 2])"
      ]
     },
     "execution_count": 75,
     "metadata": {},
     "output_type": "execute_result"
    }
   ],
   "source": [
    "C.shape"
   ]
  },
  {
   "cell_type": "code",
   "execution_count": 76,
   "id": "4501b33b",
   "metadata": {},
   "outputs": [
    {
     "data": {
      "text/plain": [
       "tensor(True)"
      ]
     },
     "execution_count": 76,
     "metadata": {},
     "output_type": "execute_result"
    }
   ],
   "source": [
    "torch.all(torch.isclose(A @ (B + C), A @ B + A @ C))"
   ]
  },
  {
   "cell_type": "markdown",
   "id": "db693b3b",
   "metadata": {},
   "source": [
    "@ **is** associative  \n",
    "${\\displaystyle A \\left( BC \\right) = \\left( AB \\right) C}.$  "
   ]
  },
  {
   "cell_type": "code",
   "execution_count": 77,
   "id": "c0360c99",
   "metadata": {},
   "outputs": [
    {
     "data": {
      "text/plain": [
       "tensor([[ 0.5763, -0.0558, -1.5430,  1.6122,  0.2125,  0.2867],\n",
       "        [ 0.0906, -0.4179,  1.2430, -0.0191, -0.5927,  0.5629]])"
      ]
     },
     "execution_count": 77,
     "metadata": {},
     "output_type": "execute_result"
    }
   ],
   "source": [
    "D = torch.randn(2, 6)\n",
    "D"
   ]
  },
  {
   "cell_type": "code",
   "execution_count": 78,
   "id": "ad87eeb5",
   "metadata": {},
   "outputs": [
    {
     "data": {
      "text/plain": [
       "torch.Size([2, 6])"
      ]
     },
     "execution_count": 78,
     "metadata": {},
     "output_type": "execute_result"
    }
   ],
   "source": [
    "D.shape"
   ]
  },
  {
   "cell_type": "code",
   "execution_count": 79,
   "id": "fb264cd6",
   "metadata": {},
   "outputs": [
    {
     "data": {
      "text/plain": [
       "tensor(True)"
      ]
     },
     "execution_count": 79,
     "metadata": {},
     "output_type": "execute_result"
    }
   ],
   "source": [
    "torch.all(torch.isclose(A @ (B @ D), (A @ B) @ D))"
   ]
  },
  {
   "cell_type": "markdown",
   "id": "8d2c45d3",
   "metadata": {},
   "source": [
    "@ is **not always** commutative  \n",
    "${\\displaystyle AB = BA}.$ "
   ]
  },
  {
   "cell_type": "code",
   "execution_count": 80,
   "id": "99bffc77",
   "metadata": {},
   "outputs": [
    {
     "data": {
      "text/plain": [
       "torch.Size([2, 2])"
      ]
     },
     "execution_count": 80,
     "metadata": {},
     "output_type": "execute_result"
    }
   ],
   "source": [
    "(A @ B).shape"
   ]
  },
  {
   "cell_type": "code",
   "execution_count": 81,
   "id": "d35f9cd7",
   "metadata": {},
   "outputs": [
    {
     "data": {
      "text/plain": [
       "torch.Size([3, 3])"
      ]
     },
     "execution_count": 81,
     "metadata": {},
     "output_type": "execute_result"
    }
   ],
   "source": [
    "(B @ A).shape"
   ]
  },
  {
   "cell_type": "markdown",
   "id": "895cf57d",
   "metadata": {},
   "source": [
    "Transpose of matrix product  \n",
    "${\\displaystyle \\left( AB \\right) ^{\\operatorname {T}} = B ^{\\operatorname {T}} A ^{\\operatorname {T}}}.$"
   ]
  },
  {
   "cell_type": "code",
   "execution_count": 82,
   "id": "df5a582a",
   "metadata": {},
   "outputs": [
    {
     "data": {
      "text/plain": [
       "tensor(True)"
      ]
     },
     "execution_count": 82,
     "metadata": {},
     "output_type": "execute_result"
    }
   ],
   "source": [
    "torch.all(torch.isclose((A @ B).transpose(0, 1), B.transpose(0, 1) @ A.transpose(0, 1)))"
   ]
  },
  {
   "cell_type": "markdown",
   "id": "4e675fe5",
   "metadata": {},
   "source": [
    "System of linear equations  \n",
    "${\\displaystyle A x = b}$  \n",
    "${\\displaystyle \\\\ \\text {where} \\: A \\in \\mathbb {R} ^ {m \\times n}, \\: b \\in \\mathbb {R} ^ {m}, \\:  \\text{and} \\: x \\in \\mathbb{R} ^ {n}.}$"
   ]
  },
  {
   "cell_type": "code",
   "execution_count": 83,
   "id": "5ccc4291",
   "metadata": {},
   "outputs": [],
   "source": [
    "m, n = 4, 5\n",
    "A = torch.randn(m, n)\n",
    "x = torch.randn(n)\n",
    "b = torch.randn(m)"
   ]
  },
  {
   "cell_type": "code",
   "execution_count": 84,
   "id": "f5d3ad87",
   "metadata": {},
   "outputs": [
    {
     "data": {
      "text/plain": [
       "torch.Size([4])"
      ]
     },
     "execution_count": 84,
     "metadata": {},
     "output_type": "execute_result"
    }
   ],
   "source": [
    "(A @ x).shape"
   ]
  },
  {
   "cell_type": "code",
   "execution_count": 85,
   "id": "0bcfe309",
   "metadata": {},
   "outputs": [
    {
     "data": {
      "text/plain": [
       "torch.Size([4])"
      ]
     },
     "execution_count": 85,
     "metadata": {},
     "output_type": "execute_result"
    }
   ],
   "source": [
    "b.shape"
   ]
  },
  {
   "cell_type": "markdown",
   "id": "8f228dfd",
   "metadata": {},
   "source": [
    "## 2.3 Identity and Inverse Matrices  \n",
    "* **Identity Matrix**: a matrix that does not change any vector when we multiply that vector by that matrix.  \n",
    "${\\displaystyle I_{n} \\in \\mathbb {R} ^{n \\times n}}$, and  \n",
    "${\\displaystyle \\forall x \\in \\mathbb {R} ^{n}, \\: I_{n}x = x.}$  \n",
    "${\\displaystyle \\begin{bmatrix}\n",
    "1 & 0 & 0 \\\\\n",
    "0 & 1 & 0 \\\\\n",
    "0 & 0 & 1\n",
    "\\end{bmatrix}}$  \n",
    "* The **matrix inverse** of **A** is denoted as ${\\displaystyle A ^{-1}}$, and is defined as the matrix such that  \n",
    "${\\displaystyle A ^{-1} A = I_{n}.}$  \n",
    "* The system of linear equations above can now be solved using the following steps:  \n",
    "${\\displaystyle A x = b}$  \n",
    "${\\displaystyle A ^{-1} A x = A ^{-1} b}$  \n",
    "${\\displaystyle I_{n} x = A^{-1} b.}$\n",
    "* ${\\displaystyle A^{-1}}$ is not always possible to find and is primarily useful as a theoretical tool.  "
   ]
  },
  {
   "cell_type": "code",
   "execution_count": null,
   "id": "8ba65323",
   "metadata": {},
   "outputs": [],
   "source": []
  }
 ],
 "metadata": {
  "kernelspec": {
   "display_name": "Python 3 (ipykernel)",
   "language": "python",
   "name": "python3"
  },
  "language_info": {
   "codemirror_mode": {
    "name": "ipython",
    "version": 3
   },
   "file_extension": ".py",
   "mimetype": "text/x-python",
   "name": "python",
   "nbconvert_exporter": "python",
   "pygments_lexer": "ipython3",
   "version": "3.8.10"
  }
 },
 "nbformat": 4,
 "nbformat_minor": 5
}
